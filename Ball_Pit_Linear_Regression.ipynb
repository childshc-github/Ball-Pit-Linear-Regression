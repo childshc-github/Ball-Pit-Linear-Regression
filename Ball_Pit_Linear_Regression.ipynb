{
 "cells": [
  {
   "cell_type": "markdown",
   "metadata": {},
   "source": [
    "# Project: Linear Regression\n",
    "\n",
    "The story (from Codecademy): Reggie is a mad scientist who has been hired by the local fast food joint to build their newest ball pit in the play area. As such, he is working on researching the bounciness of different balls so as to optimize the pit. He is running an experiment to bounce different sizes of bouncy balls, and then fitting lines to the data points he records. He has heard of linear regression, but needs your help to implement a version of linear regression in Python."
   ]
  },
  {
   "cell_type": "markdown",
   "metadata": {},
   "source": [
    "## Step 1: Calculating the Error"
   ]
  },
  {
   "cell_type": "markdown",
   "metadata": {},
   "source": [
    "The linear regression formula `y = m * x + b` is used in the below function"
   ]
  },
  {
   "cell_type": "code",
   "execution_count": 5,
   "metadata": {
    "execution": {
     "iopub.execute_input": "2022-01-26T18:47:33.543286Z",
     "iopub.status.busy": "2022-01-26T18:47:33.543286Z",
     "iopub.status.idle": "2022-01-26T18:47:33.571262Z",
     "shell.execute_reply": "2022-01-26T18:47:33.570264Z",
     "shell.execute_reply.started": "2022-01-26T18:47:33.543286Z"
    },
    "tags": []
   },
   "outputs": [
    {
     "name": "stdout",
     "output_type": "stream",
     "text": [
      "True\n",
      "True\n"
     ]
    }
   ],
   "source": [
    "def get_y(m, b, x):\n",
    "    total = (m * x) + b\n",
    "    return total\n",
    "\n",
    "print(get_y(1, 0, 7) == 7)\n",
    "print(get_y(5, 10, 3) == 25)"
   ]
  },
  {
   "cell_type": "markdown",
   "metadata": {},
   "source": [
    "The function below, `calculate_error()`, takes in `m`, `b`, and an [x, y] point called `point` and returns the difference (error) between the line and the point."
   ]
  },
  {
   "cell_type": "code",
   "execution_count": 6,
   "metadata": {
    "execution": {
     "iopub.execute_input": "2022-01-26T18:48:06.107096Z",
     "iopub.status.busy": "2022-01-26T18:48:06.107096Z",
     "iopub.status.idle": "2022-01-26T18:48:06.118381Z",
     "shell.execute_reply": "2022-01-26T18:48:06.117381Z",
     "shell.execute_reply.started": "2022-01-26T18:48:06.107096Z"
    },
    "tags": []
   },
   "outputs": [],
   "source": [
    "#Write your calculate_error() function here\n",
    "def calculate_error(m, b, point):\n",
    "    x_point = point[0]\n",
    "    y_point = point[-1]\n",
    "    y_diff = (get_y(m, b, x_point)) - y_point\n",
    "    return abs(y_diff)"
   ]
  },
  {
   "cell_type": "markdown",
   "metadata": {},
   "source": [
    "The following tests the `calculate_error()` function:"
   ]
  },
  {
   "cell_type": "code",
   "execution_count": 7,
   "metadata": {
    "execution": {
     "iopub.execute_input": "2022-01-26T18:48:20.474403Z",
     "iopub.status.busy": "2022-01-26T18:48:20.473406Z",
     "iopub.status.idle": "2022-01-26T18:48:20.483380Z",
     "shell.execute_reply": "2022-01-26T18:48:20.483380Z",
     "shell.execute_reply.started": "2022-01-26T18:48:20.474403Z"
    },
    "tags": []
   },
   "outputs": [
    {
     "name": "stdout",
     "output_type": "stream",
     "text": [
      "0\n",
      "1\n",
      "1\n",
      "5\n"
     ]
    }
   ],
   "source": [
    "#this is a line that looks like y = x, so (3, 3) should lie on it. thus, error should be 0:\n",
    "print(calculate_error(1, 0, (3, 3)))\n",
    "#the point (3, 4) should be 1 unit away from the line y = x:\n",
    "print(calculate_error(1, 0, (3, 4)))\n",
    "#the point (3, 3) should be 1 unit away from the line y = x - 1:\n",
    "print(calculate_error(1, -1, (3, 3)))\n",
    "#the point (3, 3) should be 5 units away from the line y = -x + 1:\n",
    "print(calculate_error(-1, 1, (3, 3)))"
   ]
  },
  {
   "cell_type": "markdown",
   "metadata": {
    "execution": {
     "iopub.execute_input": "2022-01-26T18:45:09.078595Z",
     "iopub.status.busy": "2022-01-26T18:45:09.078595Z",
     "iopub.status.idle": "2022-01-26T18:45:09.084578Z",
     "shell.execute_reply": "2022-01-26T18:45:09.084578Z",
     "shell.execute_reply.started": "2022-01-26T18:45:09.078595Z"
    },
    "tags": []
   },
   "source": [
    "***"
   ]
  },
  {
   "cell_type": "markdown",
   "metadata": {},
   "source": [
    "The list `datapoints` below contains bouncy ball information. For example, the first datapoint, `(1,2)`, means the ball is 1cm and bounces 2 meters."
   ]
  },
  {
   "cell_type": "code",
   "execution_count": 6,
   "metadata": {
    "execution": {
     "iopub.execute_input": "2022-01-25T23:08:29.213732Z",
     "iopub.status.busy": "2022-01-25T23:08:29.213732Z",
     "iopub.status.idle": "2022-01-25T23:08:29.232702Z",
     "shell.execute_reply": "2022-01-25T23:08:29.231694Z",
     "shell.execute_reply.started": "2022-01-25T23:08:29.213732Z"
    },
    "tags": []
   },
   "outputs": [],
   "source": [
    "datapoints = [(1, 2), (2, 0), (3, 4), (4, 4), (5, 3)]"
   ]
  },
  {
   "cell_type": "markdown",
   "metadata": {},
   "source": [
    "The function `calculate_all_error` below iterates through each point in `points` and returns the total error"
   ]
  },
  {
   "cell_type": "code",
   "execution_count": 8,
   "metadata": {
    "execution": {
     "iopub.execute_input": "2022-01-26T18:49:55.727968Z",
     "iopub.status.busy": "2022-01-26T18:49:55.727968Z",
     "iopub.status.idle": "2022-01-26T18:49:55.738951Z",
     "shell.execute_reply": "2022-01-26T18:49:55.737941Z",
     "shell.execute_reply.started": "2022-01-26T18:49:55.727968Z"
    },
    "tags": []
   },
   "outputs": [],
   "source": [
    "#Write your calculate_all_error function here\n",
    "def calculate_all_error(m, b, points):\n",
    "    total_error = 0\n",
    "    for point in points:\n",
    "        total_error += calculate_error(m, b, point)\n",
    "    return total_error"
   ]
  },
  {
   "cell_type": "markdown",
   "metadata": {},
   "source": [
    "The following cell tests the `calculate_all_error` function"
   ]
  },
  {
   "cell_type": "code",
   "execution_count": 9,
   "metadata": {
    "execution": {
     "iopub.execute_input": "2022-01-26T18:50:30.952074Z",
     "iopub.status.busy": "2022-01-26T18:50:30.952074Z",
     "iopub.status.idle": "2022-01-26T18:50:30.972105Z",
     "shell.execute_reply": "2022-01-26T18:50:30.971112Z",
     "shell.execute_reply.started": "2022-01-26T18:50:30.952074Z"
    },
    "tags": []
   },
   "outputs": [
    {
     "name": "stdout",
     "output_type": "stream",
     "text": [
      "0\n",
      "4\n",
      "4\n",
      "18\n"
     ]
    }
   ],
   "source": [
    "#every point in this dataset lies upon y=x, so the total error should be zero:\n",
    "datapoints = [(1, 1), (3, 3), (5, 5), (-1, -1)]\n",
    "print(calculate_all_error(1, 0, datapoints))\n",
    "\n",
    "#every point in this dataset is 1 unit away from y = x + 1, so the total error should be 4:\n",
    "datapoints = [(1, 1), (3, 3), (5, 5), (-1, -1)]\n",
    "print(calculate_all_error(1, 1, datapoints))\n",
    "\n",
    "#every point in this dataset is 1 unit away from y = x - 1, so the total error should be 4:\n",
    "datapoints = [(1, 1), (3, 3), (5, 5), (-1, -1)]\n",
    "print(calculate_all_error(1, -1, datapoints))\n",
    "\n",
    "\n",
    "#the points in this dataset are 1, 5, 9, and 3 units away from y = -x + 1, respectively, so total error should be\n",
    "# 1 + 5 + 9 + 3 = 18\n",
    "datapoints = [(1, 1), (3, 3), (5, 5), (-1, -1)]\n",
    "print(calculate_all_error(-1, 1, datapoints))"
   ]
  },
  {
   "cell_type": "markdown",
   "metadata": {},
   "source": [
    "## Step 2: Slope and Intercept Analysis\n"
   ]
  },
  {
   "cell_type": "markdown",
   "metadata": {},
   "source": [
    "For the sake of learning, the approach for determination of line of best fit for this project is via trial and error.\n",
    "\n",
    "The list `possible_ms` is generated via list comprehension, and contains values ranging from -10.0 to 10.0 (inclusive) by increments of 0.1"
   ]
  },
  {
   "cell_type": "code",
   "execution_count": 14,
   "metadata": {
    "execution": {
     "iopub.execute_input": "2022-01-26T18:54:49.776692Z",
     "iopub.status.busy": "2022-01-26T18:54:49.776692Z",
     "iopub.status.idle": "2022-01-26T18:54:49.786685Z",
     "shell.execute_reply": "2022-01-26T18:54:49.785668Z",
     "shell.execute_reply.started": "2022-01-26T18:54:49.776692Z"
    },
    "tags": []
   },
   "outputs": [],
   "source": [
    "possible_ms = [ms * 0.1 for ms in range(-100, 101)]"
   ]
  },
  {
   "cell_type": "markdown",
   "metadata": {},
   "source": [
    "The list `possible_bs`, also created using list comprehension, includes values ranging -20.0 to 20.0 (inclusive) by increments of of 0.1."
   ]
  },
  {
   "cell_type": "code",
   "execution_count": 16,
   "metadata": {
    "execution": {
     "iopub.execute_input": "2022-01-26T18:56:12.859798Z",
     "iopub.status.busy": "2022-01-26T18:56:12.859798Z",
     "iopub.status.idle": "2022-01-26T18:56:12.875767Z",
     "shell.execute_reply": "2022-01-26T18:56:12.874768Z",
     "shell.execute_reply.started": "2022-01-26T18:56:12.859798Z"
    },
    "tags": []
   },
   "outputs": [],
   "source": [
    "possible_bs = [bs * 0.1 for bs in range(-200, 201)]"
   ]
  },
  {
   "cell_type": "markdown",
   "metadata": {},
   "source": [
    "The cell below finds the smallest total error, and therefore the optimal `b` and `m` values, using the `calculate_all_error` function."
   ]
  },
  {
   "cell_type": "code",
   "execution_count": 17,
   "metadata": {
    "execution": {
     "iopub.execute_input": "2022-01-26T18:58:47.085158Z",
     "iopub.status.busy": "2022-01-26T18:58:47.085158Z",
     "iopub.status.idle": "2022-01-26T18:58:47.250264Z",
     "shell.execute_reply": "2022-01-26T18:58:47.249206Z",
     "shell.execute_reply.started": "2022-01-26T18:58:47.085158Z"
    },
    "tags": []
   },
   "outputs": [
    {
     "name": "stdout",
     "output_type": "stream",
     "text": [
      "The best b is 1.7000000000000002, the best m is 0.30000000000000004, and the smallest error is 4.999999999999999\n"
     ]
    }
   ],
   "source": [
    "datapoints = [(1, 2), (2, 0), (3, 4), (4, 4), (5, 3)]\n",
    "\n",
    "smallest_error = float(\"inf\")\n",
    "best_m = 0\n",
    "best_b = 0\n",
    "for m in possible_ms:\n",
    "    for b in possible_bs:\n",
    "        this_error = calculate_all_error(m, b, datapoints)\n",
    "        if this_error < smallest_error:\n",
    "            smallest_error = this_error\n",
    "            best_m = m\n",
    "            best_b = b\n",
    "print(\"The best b is {}, the best m is {}, and the smallest error is {}\".format(best_b, best_m, smallest_error))"
   ]
  },
  {
   "cell_type": "markdown",
   "metadata": {},
   "source": [
    "## Step 3: Prediction via Model\n",
    "\n",
    "The optimal values of `m` and `b` were determined to be 0.3 and 1.7, respectively.\n",
    "\n",
    "Plugged into the linear regression formula outlined in Step 1, the current model is:\n",
    "\n",
    "```\n",
    "y = 0.3x + 1.7\n",
    "```\n",
    "\n",
    "This line can be used to predict other bouncy ball values. The cell below predicts the bounce height for a 6cm ball."
   ]
  },
  {
   "cell_type": "code",
   "execution_count": 25,
   "metadata": {
    "execution": {
     "iopub.execute_input": "2022-01-25T23:24:09.359757Z",
     "iopub.status.busy": "2022-01-25T23:24:09.358760Z",
     "iopub.status.idle": "2022-01-25T23:24:09.372021Z",
     "shell.execute_reply": "2022-01-25T23:24:09.372021Z",
     "shell.execute_reply.started": "2022-01-25T23:24:09.359757Z"
    }
   },
   "outputs": [
    {
     "name": "stdout",
     "output_type": "stream",
     "text": [
      "3.5\n"
     ]
    }
   ],
   "source": [
    "print(get_y(0.3, 1.7, 6))"
   ]
  },
  {
   "cell_type": "markdown",
   "metadata": {},
   "source": [
    "Our model predicts that the 6cm ball will bounce 3.5m. This model can now be used for Reggie's ball pit design."
   ]
  },
  {
   "cell_type": "code",
   "execution_count": null,
   "metadata": {
    "collapsed": true,
    "jupyter": {
     "outputs_hidden": true
    }
   },
   "outputs": [],
   "source": []
  }
 ],
 "metadata": {
  "kernelspec": {
   "display_name": "Python 3",
   "language": "python",
   "name": "python3"
  },
  "language_info": {
   "codemirror_mode": {
    "name": "ipython",
    "version": 3
   },
   "file_extension": ".py",
   "mimetype": "text/x-python",
   "name": "python",
   "nbconvert_exporter": "python",
   "pygments_lexer": "ipython3",
   "version": "3.8.8"
  }
 },
 "nbformat": 4,
 "nbformat_minor": 4
}
